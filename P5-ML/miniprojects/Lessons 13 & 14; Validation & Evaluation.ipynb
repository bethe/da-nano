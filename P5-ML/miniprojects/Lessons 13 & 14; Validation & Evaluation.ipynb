{
 "cells": [
  {
   "cell_type": "code",
   "execution_count": 1,
   "metadata": {
    "collapsed": true
   },
   "outputs": [],
   "source": [
    "%matplotlib inline"
   ]
  },
  {
   "cell_type": "markdown",
   "metadata": {},
   "source": [
    "#### Load Data"
   ]
  },
  {
   "cell_type": "code",
   "execution_count": 4,
   "metadata": {
    "collapsed": true
   },
   "outputs": [],
   "source": [
    "# %load \"../ud120-files/validation/validate_poi.py\"\n",
    "#!/usr/bin/python\n",
    "\n",
    "\n",
    "\"\"\"\n",
    "    Starter code for the validation mini-project.\n",
    "    The first step toward building your POI identifier!\n",
    "\n",
    "    Start by loading/formatting the data\n",
    "\n",
    "    After that, it's not our code anymore--it's yours!\n",
    "\"\"\"\n",
    "\n",
    "import pickle\n",
    "import sys\n",
    "sys.path.append(\"../ud120-files/tools/\")\n",
    "from feature_format import featureFormat, targetFeatureSplit\n",
    "\n",
    "data_dict = pickle.load(open(\"../ud120-files/final_project/final_project_dataset.pkl\", \"r\") )\n",
    "\n",
    "### first element is our labels, any added elements are predictor\n",
    "### features. Keep this the same for the mini-project, but you'll\n",
    "### have a different feature list when you do the final project.\n",
    "features_list = [\"poi\", \"salary\"]\n",
    "\n",
    "data = featureFormat(data_dict, features_list)\n",
    "labels, features = targetFeatureSplit(data)\n",
    "\n",
    "\n",
    "\n",
    "### it's all yours from here forward!  \n",
    "\n",
    "\n"
   ]
  },
  {
   "cell_type": "markdown",
   "metadata": {},
   "source": [
    "#### Run initial Decision Tree Test"
   ]
  },
  {
   "cell_type": "code",
   "execution_count": 10,
   "metadata": {
    "collapsed": false
   },
   "outputs": [
    {
     "name": "stdout",
     "output_type": "stream",
     "text": [
      "0.989473684211\n"
     ]
    }
   ],
   "source": [
    "def dt_acc(features_train, features_test, labels_train, labels_test):\n",
    "    from sklearn.tree import DecisionTreeClassifier\n",
    "    clf = DecisionTreeClassifier()\n",
    "    clf.fit(features_train, labels_train)\n",
    "    return clf.score(features_test, labels_test)\n",
    "\n",
    "print dt_acc(features, features, labels, labels)"
   ]
  },
  {
   "cell_type": "markdown",
   "metadata": {},
   "source": [
    "#### Run initial Decision Tree Test"
   ]
  },
  {
   "cell_type": "code",
   "execution_count": 12,
   "metadata": {
    "collapsed": false
   },
   "outputs": [
    {
     "name": "stdout",
     "output_type": "stream",
     "text": [
      "0.724137931034\n"
     ]
    }
   ],
   "source": [
    "from sklearn.cross_validation import train_test_split\n",
    "features_train, features_test, labels_train, labels_test = train_test_split(features, labels,\n",
    "                                                                            test_size = 0.3, random_state = 42)\n",
    "\n",
    "print dt_acc(features_train, features_test, labels_train, labels_test)"
   ]
  },
  {
   "cell_type": "code",
   "execution_count": 33,
   "metadata": {
    "collapsed": false
   },
   "outputs": [
    {
     "name": "stdout",
     "output_type": "stream",
     "text": [
      "Q1: 4.0\n",
      "Q2: 29\n",
      "Accuracy if all identified as 0: 0.862068965517\n",
      "True positives: 0\n",
      "Precision: 0.0\n",
      "Recall: 0.0\n"
     ]
    }
   ],
   "source": [
    "## How many POIs are predicted for the test set for your POI identifier?\n",
    "from sklearn.tree import DecisionTreeClassifier\n",
    "clf = DecisionTreeClassifier()\n",
    "clf.fit(features_train, labels_train)\n",
    "pred_positives = sum(clf.predict(features_test)) \n",
    "print \"Q1:\", pred_positives\n",
    "\n",
    "## How many people total are in your test set?\n",
    "observations = len(features_test)\n",
    "print \"Q2:\", observations\n",
    "\n",
    "## If your identifier predicted 0. (not POI) for everyone in the test set, what would its accuracy be?\n",
    "actual_negatives = observations - sum(labels_test)\n",
    "print \"Accuracy if all identified as 0:\", actual_negatives / observations\n",
    "\n",
    "## Do you get any true positives?\n",
    "predictions = clf.predict(features_test)\n",
    "true_pos = 0\n",
    "false_pos = 0\n",
    "true_neg = 0\n",
    "for i in predictions:\n",
    "    if predictions[int(i)] == 1:\n",
    "        if labels_test == 1:\n",
    "            true_pos += 1\n",
    "        else:\n",
    "            false_pos += 1\n",
    "    elif predictions[int(i)] == 0:\n",
    "        if labels_test == 0:\n",
    "            true_neg += 1\n",
    "print \"True positives:\", true_pos\n",
    "\n",
    "## What’s the precision?\n",
    "from sklearn.metrics import precision_score\n",
    "print \"Precision:\", precision_score(predictions, labels_test)\n",
    "\n",
    "## What’s the recall?\n",
    "from sklearn.metrics import recall_score\n",
    "print \"Recall:\", recall_score(predictions, labels_test)\n"
   ]
  }
 ],
 "metadata": {
  "kernelspec": {
   "display_name": "Python 2",
   "language": "python",
   "name": "python2"
  },
  "language_info": {
   "codemirror_mode": {
    "name": "ipython",
    "version": 2
   },
   "file_extension": ".py",
   "mimetype": "text/x-python",
   "name": "python",
   "nbconvert_exporter": "python",
   "pygments_lexer": "ipython2",
   "version": "2.7.11"
  }
 },
 "nbformat": 4,
 "nbformat_minor": 0
}
