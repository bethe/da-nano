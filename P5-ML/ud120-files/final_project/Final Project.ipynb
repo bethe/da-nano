{
 "cells": [
  {
   "cell_type": "markdown",
   "metadata": {},
   "source": [
    "# Udacity: Intro to Machine Learning - Final Project"
   ]
  },
  {
   "cell_type": "code",
   "execution_count": 1,
   "metadata": {
    "collapsed": true
   },
   "outputs": [],
   "source": [
    "import math\n",
    "%matplotlib inline \n",
    "import matplotlib.pyplot as plt\n",
    "\n",
    "import sys\n",
    "import pickle\n",
    "sys.path.append(\"../tools/\")\n",
    "\n",
    "from feature_format import featureFormat, targetFeatureSplit\n",
    "from tester import dump_classifier_and_data\n",
    "\n",
    "### Load the dictionary containing the dataset\n",
    "with open(\"final_project_dataset.pkl\", \"r\") as data_file:\n",
    "    data_dict = pickle.load(data_file)"
   ]
  },
  {
   "cell_type": "markdown",
   "metadata": {},
   "source": [
    "### Introduction "
   ]
  },
  {
   "cell_type": "markdown",
   "metadata": {},
   "source": [
    "In this project we'll use Machine Learning to identify persons of interest (POIs) in the Enron case of the early 2000s.\n",
    "\n",
    "Enron was one of the largest companies in the United States. By 2002, it had collapsed into bankruptcy due to widespread corporate fraud. In the resulting Federal investigation, there was a significant amount of typically confidential information entered into public record, including tens of thousands of emails and detailed financial data for top executives.\n",
    "\n",
    "The sheer size of the data set makes it very cumbersome for humans to analyze, however given that the data is available in a digital format it lends itself well to be analyzed using Machine Learning techniques. This report documents the machine learning techniques used in building a POI identifier.\n",
    "\n",
    "There are four major steps in my project:\n",
    "\n",
    "1. Data & Questions\n",
    "2. Feature Selection\n",
    "3. Algorithm Selection\n",
    "4. Tuning & Validation"
   ]
  },
  {
   "cell_type": "markdown",
   "metadata": {},
   "source": [
    "### 1 Data Exploration"
   ]
  },
  {
   "cell_type": "markdown",
   "metadata": {},
   "source": [
    "#### 1.1 Initial investigation"
   ]
  },
  {
   "cell_type": "code",
   "execution_count": 2,
   "metadata": {
    "collapsed": false
   },
   "outputs": [
    {
     "name": "stdout",
     "output_type": "stream",
     "text": [
      "total number of data points: 146\n",
      "Allocation across classes:\n",
      "    POI: 18\n",
      "    Not POI: 128\n",
      "Data is available for the following 21 features:\n",
      "    - salary\n",
      "    - to_messages\n",
      "    - deferral_payments\n",
      "    - total_payments\n",
      "    - exercised_stock_options\n",
      "    - bonus\n",
      "    - restricted_stock\n",
      "    - shared_receipt_with_poi\n",
      "    - restricted_stock_deferred\n",
      "    - total_stock_value\n",
      "    - expenses\n",
      "    - loan_advances\n",
      "    - from_messages\n",
      "    - other\n",
      "    - from_this_person_to_poi\n",
      "    - poi\n",
      "    - director_fees\n",
      "    - deferred_income\n",
      "    - long_term_incentive\n",
      "    - email_address\n",
      "    - from_poi_to_this_person\n",
      "Missing values for each feature:\n",
      "{'salary': 51, 'to_messages': 60, 'deferral_payments': 107, 'total_payments': 21, 'loan_advances': 142, 'bonus': 64, 'email_address': 35, 'restricted_stock_deferred': 128, 'total_stock_value': 20, 'shared_receipt_with_poi': 60, 'long_term_incentive': 80, 'exercised_stock_options': 44, 'from_messages': 60, 'other': 53, 'from_poi_to_this_person': 60, 'from_this_person_to_poi': 60, 'poi': 0, 'deferred_income': 97, 'expenses': 51, 'restricted_stock': 36, 'director_fees': 129}\n"
     ]
    }
   ],
   "source": [
    "## total number of data points\n",
    "print \"total number of data points:\", len(data_dict)\n",
    "\n",
    "\n",
    "## allocation across classes (POI/non-POI)\n",
    "print \"Allocation across classes:\"\n",
    "poi_count = 0\n",
    "non_poi_count = 0\n",
    "for name in data_dict:\n",
    "    if data_dict[name]['poi'] == True:\n",
    "        poi_count += 1\n",
    "    else:\n",
    "        non_poi_count += 1\n",
    "print \"    POI:\", poi_count\n",
    "print \"    Not POI:\", non_poi_count\n",
    "\n",
    "\n",
    "## number of features\n",
    "sample_features = data_dict[data_dict.keys()[0]]\n",
    "print \"Data is available for the following\", len(sample_features), \"features:\"\n",
    "for feature in sample_features:\n",
    "        print \"    -\", feature\n",
    "\n",
    "\n",
    "## are there features with many missing values?\n",
    "print \"Missing values for each feature:\"\n",
    "nan_dict = {}\n",
    "for feature in sample_features:\n",
    "    count = 0\n",
    "    for name in data_dict:\n",
    "        try:\n",
    "            if math.isnan(float(data_dict[name][feature])):\n",
    "                count += 1\n",
    "        except:\n",
    "            pass\n",
    "    nan_dict[feature] = count\n",
    "print nan_dict"
   ]
  },
  {
   "cell_type": "markdown",
   "metadata": {},
   "source": [
    "#### 1.2 Outlier Removal"
   ]
  },
  {
   "cell_type": "code",
   "execution_count": 3,
   "metadata": {
    "collapsed": false
   },
   "outputs": [
    {
     "data": {
      "image/png": "[encoded data removed]",
      "text/plain": [
       "<matplotlib.figure.Figure at 0x7ff72d0b3c50>"
      ]
     },
     "metadata": {},
     "output_type": "display_data"
    }
   ],
   "source": [
    "features = [\"poi\", \"salary\", \"bonus\"]\n",
    "data = featureFormat(data_dict, features)\n",
    "\n",
    "\n",
    "### write function for plot\n",
    "def dot_plot(data, features):\n",
    "    for point in data:\n",
    "        x_axis = point[1]\n",
    "        y_axis = point[2]\n",
    "        plt.scatter( x_axis, y_axis )\n",
    "        if point[0] == 1:\n",
    "            plt.scatter(x_axis, y_axis, color=\"r\", marker=\"*\")\n",
    "    \n",
    "    plt.xlabel(features[1])\n",
    "    plt.ylabel(features[2])\n",
    "    plt.show()\n",
    "dot_plot(data, features)"
   ]
  },
  {
   "cell_type": "code",
   "execution_count": 4,
   "metadata": {
    "collapsed": false
   },
   "outputs": [
    {
     "name": "stdout",
     "output_type": "stream",
     "text": [
      "[('TOTAL', 26704229)]\n"
     ]
    }
   ],
   "source": [
    "## Identify outlier(s)\n",
    "def outliers(feature, n):\n",
    "    outliers = []\n",
    "    data = featureFormat(data_dict, features)\n",
    "    for key in data_dict:\n",
    "        val = data_dict[key][feature]\n",
    "        if val == 'NaN':\n",
    "            continue\n",
    "        outliers.append((key,int(val)))\n",
    "    \n",
    "    max_outliers = sorted(outliers,key=lambda x:x[1],reverse=True)[:n]\n",
    "    return max_outliers\n",
    "    \n",
    "print outliers('salary', 1)"
   ]
  },
  {
   "cell_type": "markdown",
   "metadata": {},
   "source": [
    "The 'TOTAL' entry seems to sum up all the individual data points:"
   ]
  },
  {
   "cell_type": "code",
   "execution_count": 5,
   "metadata": {
    "collapsed": false
   },
   "outputs": [
    {
     "name": "stdout",
     "output_type": "stream",
     "text": [
      "53408458\n"
     ]
    }
   ],
   "source": [
    "total = 0\n",
    "for name in data_dict:\n",
    "    try:\n",
    "        total += data_dict[name]['salary']\n",
    "    except:\n",
    "        pass\n",
    "print total"
   ]
  },
  {
   "cell_type": "markdown",
   "metadata": {},
   "source": [
    "Since we're only interested in the actual observations, the best course of action is to remove it."
   ]
  },
  {
   "cell_type": "code",
   "execution_count": 6,
   "metadata": {
    "collapsed": false
   },
   "outputs": [
    {
     "data": {
      "image/png": "[encoded data removed]",
      "text/plain": [
       "<matplotlib.figure.Figure at 0x7ff72d09ffd0>"
      ]
     },
     "metadata": {},
     "output_type": "display_data"
    }
   ],
   "source": [
    "## Remove and plot again\n",
    "data_dict.pop('TOTAL')\n",
    "data = featureFormat(data_dict, features)\n",
    "\n",
    "dot_plot(data, features)"
   ]
  },
  {
   "cell_type": "markdown",
   "metadata": {},
   "source": [
    "There's a cluster of points and then a number of points seem to fan out from that cluster. Let's investigate those in more detail:"
   ]
  },
  {
   "cell_type": "code",
   "execution_count": 7,
   "metadata": {
    "collapsed": false
   },
   "outputs": [
    {
     "name": "stdout",
     "output_type": "stream",
     "text": [
      "[('SKILLING JEFFREY K', 1111258), ('LAY KENNETH L', 1072321), ('FREVERT MARK A', 1060932)]\n",
      "[('LAVORATO JOHN J', 8000000), ('LAY KENNETH L', 7000000), ('SKILLING JEFFREY K', 5600000)]\n"
     ]
    }
   ],
   "source": [
    "print outliers('salary', 3)\n",
    "print outliers('bonus', 3)"
   ]
  },
  {
   "cell_type": "markdown",
   "metadata": {},
   "source": [
    "These datapoints pertain to people high up in the organisation and charged with fraud, so it sounds plausible that they had significantly higher salaries / bonuses. We will leave the data unchanged."
   ]
  },
  {
   "cell_type": "markdown",
   "metadata": {},
   "source": [
    "### 2 Feature Selection"
   ]
  },
  {
   "cell_type": "markdown",
   "metadata": {},
   "source": [
    "#### 2.1 Feature Creation"
   ]
  },
  {
   "cell_type": "markdown",
   "metadata": {},
   "source": [
    "Fraud at the scale of Enron requires collusion amongst a network of people. It's reasonable to assume that the structure of a network is reflected in the amount of emails members of the network send each other. Let's investigate the features 'from_poi_to_this_person' and 'from_this_person_to_poi'."
   ]
  },
  {
   "cell_type": "code",
   "execution_count": 8,
   "metadata": {
    "collapsed": false
   },
   "outputs": [
    {
     "data": {
      "image/png": "[encoded data removed]",
      "text/plain": [
       "<matplotlib.figure.Figure at 0x7ff72aae6590>"
      ]
     },
     "metadata": {},
     "output_type": "display_data"
    }
   ],
   "source": [
    "features = ['poi', 'from_poi_to_this_person', 'from_this_person_to_poi']\n",
    "data = featureFormat(data_dict, features)\n",
    "\n",
    "dot_plot(data, features)"
   ]
  },
  {
   "cell_type": "code",
   "execution_count": 9,
   "metadata": {
    "collapsed": false
   },
   "outputs": [
    {
     "name": "stdout",
     "output_type": "stream",
     "text": [
      "[('LAVORATO JOHN J', 528), ('DIETRICH JANET R', 305), ('KITCHEN LOUISE', 251), ('FREVERT MARK A', 242)]\n",
      "[('DELAINEY DAVID W', 609), ('LAVORATO JOHN J', 411), ('KEAN STEVEN J', 387), ('BECK SALLY W', 386)]\n"
     ]
    }
   ],
   "source": [
    "print outliers('from_poi_to_this_person', 4)\n",
    "print outliers('from_this_person_to_poi', 4)"
   ]
  },
  {
   "cell_type": "markdown",
   "metadata": {},
   "source": [
    "We would have expected a high correlation between incoming and outgoing email to/from POIs, however this correlation seems weak. I.e., David Delainey seems to have a lot of email from POIs, but relatively little sent. Similarly, several people sent 200+ emails to POIs, but received very few back. As a result, the POI observations in red look mixed in with the non-POI observations. \n",
    "\n",
    "Perhaps this is due to the fact that some people generally send a lot more email than others. So let's create a new feature that gives us the ratio of incoming/outgoing emails to/from POIs."
   ]
  },
  {
   "cell_type": "code",
   "execution_count": 10,
   "metadata": {
    "collapsed": false
   },
   "outputs": [],
   "source": [
    "# create new dataset 'my_dataset' as per poi_id.py file instructions\n",
    "my_dataset = data_dict\n",
    "for name in data_dict:\n",
    "    try:\n",
    "        my_dataset[name]['from_poi_ratio'] = float(data_dict[name]['from_poi_to_this_person']) / data_dict[name]['to_messages']\n",
    "    except:\n",
    "        my_dataset[name]['from_poi_ratio'] = 0\n",
    "    try:\n",
    "        my_dataset[name]['to_poi_ratio'] = float(data_dict[name]['from_this_person_to_poi']) / data_dict[name]['from_messages']\n",
    "    except:\n",
    "        my_dataset[name]['to_poi_ratio'] = 0"
   ]
  },
  {
   "cell_type": "code",
   "execution_count": 11,
   "metadata": {
    "collapsed": false
   },
   "outputs": [
    {
     "data": {
      "image/png": "[encoded data removed]",
      "text/plain": [
       "<matplotlib.figure.Figure at 0x7ff72aabf3d0>"
      ]
     },
     "metadata": {},
     "output_type": "display_data"
    }
   ],
   "source": [
    "#print data_dict[data_dict.keys()[0]]\n",
    "features = [\"poi\", \"from_poi_ratio\", \"to_poi_ratio\"]\n",
    "data = featureFormat(my_dataset, features)\n",
    "\n",
    "dot_plot(data, features)"
   ]
  },
  {
   "cell_type": "markdown",
   "metadata": {},
   "source": [
    "This looks better; the correlation between the variables seems clearer and the POIs are closer together and easier to identify."
   ]
  },
  {
   "cell_type": "markdown",
   "metadata": {},
   "source": [
    "#### 2.2 Feature Reduction"
   ]
  },
  {
   "cell_type": "markdown",
   "metadata": {},
   "source": [
    "Given the skewed nature of the dataset (18 positives, 128 negatives) we will select a feature reduction method based on reducing false positives, SelectFpr. We will start using all available features and then subtract step by step."
   ]
  },
  {
   "cell_type": "code",
   "execution_count": 12,
   "metadata": {
    "collapsed": false
   },
   "outputs": [
    {
     "name": "stdout",
     "output_type": "stream",
     "text": [
      "The SelectFpr algorhithm suggests using only the following features:\n",
      "['poi', 'salary', 'bonus', 'to_poi_ratio', 'total_stock_value', 'exercised_stock_options']\n"
     ]
    }
   ],
   "source": [
    "features_list = [\"poi\", \"salary\", \"bonus\", \"to_poi_ratio\", \"from_poi_ratio\",\n",
    "            \"deferral_payments\", \"total_payments\", \"loan_advances\", \"restricted_stock_deferred\",\n",
    "            \"deferred_income\", \"total_stock_value\", \"expenses\", \"exercised_stock_options\",\n",
    "            \"long_term_incentive\", \"shared_receipt_with_poi\", \"restricted_stock\", \"director_fees\"]\n",
    "data = featureFormat(my_dataset, features_list)\n",
    "labels, features = targetFeatureSplit(data)\n",
    "\n",
    "\n",
    "### split data into training and testing datasets\n",
    "#from sklearn import cross_validation\n",
    "#features_train, features_test, labels_train, labels_test = cross_validation.train_test_split(features, labels, test_size=0.1, random_state=42)\n",
    "\n",
    "\n",
    "from sklearn.feature_selection import SelectFpr\n",
    "from sklearn.feature_selection import chi2, f_classif\n",
    "univariate_filter = SelectFpr(f_classif, alpha = 0.0001)\n",
    "filtered_features = univariate_filter.fit(features, labels).transform(features)\n",
    "feature_tf = univariate_filter.get_support(indices=False)\n",
    "feature_indices = univariate_filter.get_support(indices=True)\n",
    "\n",
    "#print feature_tf\n",
    "#print feature_indices\n",
    "print \"The SelectFpr algorhithm suggests using only the following features:\"\n",
    "\n",
    "# Start new features_list, seeding 'poi' as the dependent\n",
    "reduced_features_list = ['poi']\n",
    "for i in feature_indices:\n",
    "    reduced_features_list.append(features_list[i+1])\n",
    "print reduced_features_list\n",
    "    "
   ]
  },
  {
   "cell_type": "markdown",
   "metadata": {},
   "source": [
    "### 3 Algorhithm Selection"
   ]
  },
  {
   "cell_type": "markdown",
   "metadata": {},
   "source": [
    "It's important to evaluate algorhitms against a test set that they haven't been trained against. This prevents overfitting to available data. For that purpose we will first split the data into test & training sets and define a function to evaluate the predictions of the algorhithms we'll investigate."
   ]
  },
  {
   "cell_type": "code",
   "execution_count": 13,
   "metadata": {
    "collapsed": false
   },
   "outputs": [],
   "source": [
    "# Rebuild labels & features with reduced_features_list\n",
    "data = featureFormat(my_dataset, reduced_features_list)\n",
    "labels, features = targetFeatureSplit(data)\n",
    "\n",
    "# Build train and test sets for cross validation\n",
    "from sklearn import cross_validation\n",
    "features_train, features_test, labels_train, labels_test = cross_validation.train_test_split(features, labels, \n",
    "                                                                                             test_size=0.3, \n",
    "                                                                                             random_state=42)"
   ]
  },
  {
   "cell_type": "code",
   "execution_count": 77,
   "metadata": {
    "collapsed": false
   },
   "outputs": [],
   "source": [
    "# Functions for evaluating outcomes\n",
    "def eval(pred, print_or_return = \"print\"):\n",
    "    #convert true values to True/False and print\n",
    "    true_list = []\n",
    "    for i in labels_test:\n",
    "        true_list.append(bool(i))\n",
    "    \n",
    "    #convert prediction values to True/False and print\n",
    "    pred_list = []\n",
    "    for i in pred:\n",
    "        pred_list.append(bool(i))\n",
    "    \n",
    "    #calculate confusion matrix, precision & recall\n",
    "    from sklearn.metrics import confusion_matrix, precision_score, recall_score\n",
    "    precision = precision_score(true_list, pred_list)\n",
    "    recall = recall_score(true_list, pred_list)\n",
    "    \n",
    "    #print or return\n",
    "    if print_or_return == \"print\":\n",
    "        print \"True values     :\", true_list\n",
    "        print \"Predicted values:\", pred_list\n",
    "        print \"Confusion Matrix:\"\n",
    "        print confusion_matrix(true_list, pred_list)\n",
    "        print \"Precision:\", precision\n",
    "        print \"Recall:\", recall\n",
    "    else:\n",
    "        return precision, recall"
   ]
  },
  {
   "cell_type": "markdown",
   "metadata": {},
   "source": [
    "#### 3.1 Naive Bayes "
   ]
  },
  {
   "cell_type": "code",
   "execution_count": 73,
   "metadata": {
    "collapsed": false
   },
   "outputs": [
    {
     "name": "stdout",
     "output_type": "stream",
     "text": [
      "Accuracy: 0.775\n",
      "True values     : [False, False, False, False, False, False, True, False, True, False, False, True, False, True, False, False, False, True, False, False, False, False, True, False, True, False, False, True, True, False, False, False, False, False, False, True, False, False, False, False]\n",
      "Predicted values: [False, False, False, False, True, False, False, False, True, False, False, False, False, False, False, False, False, False, False, False, False, False, False, False, False, False, False, False, False, False, False, False, False, False, False, True, False, False, False, False]\n",
      "Confusion Matrix:\n",
      "[[29  1]\n",
      " [ 8  2]]\n",
      "Precision: 0.666666666667\n",
      "Recall: 0.2\n"
     ]
    }
   ],
   "source": [
    "from sklearn.naive_bayes import GaussianNB\n",
    "clf = GaussianNB()\n",
    "clf = clf.fit(features_train, labels_train)   \n",
    "\n",
    "pred = clf.predict(features_test)\n",
    "accuracy = clf.score(features_test, labels_test)\n",
    "print \"Accuracy:\", accuracy\n",
    "\n",
    "eval(pred)"
   ]
  },
  {
   "cell_type": "markdown",
   "metadata": {},
   "source": [
    "#### 3.2 SVM "
   ]
  },
  {
   "cell_type": "code",
   "execution_count": 74,
   "metadata": {
    "collapsed": false
   },
   "outputs": [
    {
     "name": "stdout",
     "output_type": "stream",
     "text": [
      "Accuracy: 0.75\n",
      "True values     : [False, False, False, False, False, False, True, False, True, False, False, True, False, True, False, False, False, True, False, False, False, False, True, False, True, False, False, True, True, False, False, False, False, False, False, True, False, False, False, False]\n",
      "Predicted values: [False, False, False, False, False, False, False, False, False, False, False, False, False, False, False, False, False, False, False, False, False, False, False, False, False, False, False, False, False, False, False, False, False, False, False, False, False, False, False, False]\n",
      "Confusion Matrix:\n",
      "[[30  0]\n",
      " [10  0]]\n",
      "Precision: 0.0\n",
      "Recall: 0.0\n"
     ]
    }
   ],
   "source": [
    "from sklearn.svm import SVC\n",
    "clf = SVC()\n",
    "clf = clf.fit(features_train, labels_train)   \n",
    "\n",
    "pred = clf.predict(features_test)\n",
    "accuracy = clf.score(features_test, labels_test)\n",
    "print \"Accuracy:\", accuracy\n",
    "\n",
    "eval(pred)"
   ]
  },
  {
   "cell_type": "markdown",
   "metadata": {},
   "source": [
    "#### 3.3 Decision Tree"
   ]
  },
  {
   "cell_type": "code",
   "execution_count": 63,
   "metadata": {
    "collapsed": false
   },
   "outputs": [
    {
     "name": "stdout",
     "output_type": "stream",
     "text": [
      "Accuracy: 0.75\n",
      "True values     : [False, False, False, False, False, False, True, False, True, False, False, True, False, True, False, False, False, True, False, False, False, False, True, False, True, False, False, True, True, False, False, False, False, False, False, True, False, False, False, False]\n",
      "Predicted values: [False, False, False, False, False, False, True, False, False, False, False, False, False, False, False, False, False, False, False, False, True, False, False, True, False, False, False, False, False, False, False, False, False, False, False, True, False, False, False, False]\n",
      "Confusion Matrix:\n",
      "[[28  2]\n",
      " [ 8  2]]\n",
      "Precision: 0.5\n",
      "Recall: 0.2\n"
     ]
    }
   ],
   "source": [
    "from sklearn import tree\n",
    "clf = tree.DecisionTreeClassifier()\n",
    "clf = clf.fit(features_train, labels_train)\n",
    "\n",
    "pred = clf.predict(features_test)\n",
    "accuracy = clf.score(features_test, labels_test)\n",
    "print \"Accuracy:\", accuracy\n",
    "\n",
    "eval(pred)"
   ]
  },
  {
   "cell_type": "markdown",
   "metadata": {},
   "source": [
    "#### 3.4 Random Forest"
   ]
  },
  {
   "cell_type": "code",
   "execution_count": 71,
   "metadata": {
    "collapsed": false
   },
   "outputs": [
    {
     "name": "stdout",
     "output_type": "stream",
     "text": [
      "Accuracy: 0.8\n",
      "True values     : [False, False, False, False, False, False, True, False, True, False, False, True, False, True, False, False, False, True, False, False, False, False, True, False, True, False, False, True, True, False, False, False, False, False, False, True, False, False, False, False]\n",
      "Predicted values: [False, False, False, False, False, False, True, False, False, False, False, False, False, False, False, False, False, False, False, False, False, False, False, True, False, False, False, True, False, False, False, False, False, False, False, True, False, False, False, False]\n",
      "Confusion Matrix:\n",
      "[[29  1]\n",
      " [ 7  3]]\n",
      "Precision: 0.75\n",
      "Recall: 0.3\n"
     ]
    }
   ],
   "source": [
    "from sklearn.ensemble import RandomForestClassifier\n",
    "clf = RandomForestClassifier()\n",
    "clf = clf.fit(features_train, labels_train)\n",
    "\n",
    "pred = clf.predict(features_test)\n",
    "accuracy = clf.score(features_test, labels_test)\n",
    "print \"Accuracy:\", accuracy\n",
    "\n",
    "eval(pred)"
   ]
  },
  {
   "cell_type": "markdown",
   "metadata": {},
   "source": [
    "The SVM algorhithm took the \"shortcut\" to simply declare nobody a POI, which gives it a relatively high accuracy at 0.75, but of course 0 precision and recall. I was somewhat surprised by the fact that Naive Bayes outperformed the decision tree algorhithm, given that decision trees are generally able to handle intercorrelation better and we saw earlier that some variables have correlation. Overall however, the Random Forest (which is an ensemble of decision trees) showed the best performance across all 3 metrics, accuracy, precision and recall."
   ]
  },
  {
   "cell_type": "markdown",
   "metadata": {},
   "source": [
    "### 4 Tuning and Validation "
   ]
  },
  {
   "cell_type": "markdown",
   "metadata": {},
   "source": [
    "At a first glance, the accuracy we found with the algorhithms above looks quite high, ranging between 0.75 and 0.8. However, given the class-imbalance, namely that 75% of observations are not POIs, this number becomes less impressive. More specifically, due tot he imbalance it's easy to identify (or guess correctly) the non-POIs, whereas what we really set out to do is identifying POIs.\n",
    "\n",
    "That's why we should focus more on the precision and recall scores. Doing that we see that even the best algorhithm above, the Random Forest, is not performing really well yet at identifying the POIs. Our precision is quite ok at 3 out of 4 predicted POIs actually being POIs (Precision of 0.75). However, the prediction is still \"too conservative\" in the sense that out of 10 POIs, only 3 were identified (0.3 Recall).\n",
    "\n",
    "So we will tune the Random Forest and evaluate not only accuracy but more so precision and especially recall.\n",
    "\n",
    "Specifically, we will look at 3 parameters: (1) class_weight, (2) min_samples_split, and (3) n_estimators."
   ]
  },
  {
   "cell_type": "markdown",
   "metadata": {},
   "source": [
    "#### 4.1 class_weight"
   ]
  },
  {
   "cell_type": "markdown",
   "metadata": {},
   "source": [
    "Given the class-imbalance, it looks like the parameter class_weight could help address it. Besides the default \"None\", we can pick between \"balanced\" and \"balanced_subsample\". In an initial run the performance actually decreased when using the latter, however this is really counter-intuitive. We will therefore set the default to \"balanced\" while tweaking the other parameters, then revisit class_weight once the other two parameters are tweaked."
   ]
  },
  {
   "cell_type": "code",
   "execution_count": 99,
   "metadata": {
    "collapsed": false
   },
   "outputs": [],
   "source": [
    "# Define base Random Forest Classifier\n",
    "def randomForestclf(class_weight = \"balanced\", min_samples_split = 2, n_estimators = 10):\n",
    "    from sklearn.ensemble import RandomForestClassifier\n",
    "    clf = RandomForestClassifier(class_weight = class_weight, \n",
    "                                 min_samples_split = min_samples_split, \n",
    "                                 n_estimators = n_estimators)\n",
    "    clf = clf.fit(features_train, labels_train)\n",
    "    pred = clf.predict(features_test)\n",
    "    precision, recall = eval(pred, print_or_return = \"return\") \n",
    "    return precision, recall"
   ]
  },
  {
   "cell_type": "code",
   "execution_count": 100,
   "metadata": {
    "collapsed": false
   },
   "outputs": [
    {
     "name": "stdout",
     "output_type": "stream",
     "text": [
      "min_samples_split     avg precision     avg recall         avg\n",
      "1                    0.19696969697    0.0242424242424     0.110606060606\n",
      "11                    0.741414141414    0.247474747475     0.494444444444\n",
      "21                    0.629300637634    0.432323232323     0.530811934979\n",
      "31                    0.583463183842    0.505050505051     0.544256844446\n",
      "41                    0.582120493885    0.570707070707     0.576413782296\n",
      "51                    0.579754823813    0.523232323232     0.551493573523\n",
      "61                    0.351685633207    0.436363636364     0.394024634786\n",
      "71                    0.111111111111    0.444444444444     0.277777777778\n",
      "81                    0.0707070707071    0.282828282828     0.176767676768\n",
      "91                    0.0833333333333    0.333333333333     0.208333333333\n"
     ]
    }
   ],
   "source": [
    "# Simulate outcomes across values of min_samples_split\n",
    "print \"min_samples_split    \", \"avg precision    \", \"avg recall        \", \"avg\"\n",
    "for i in range(1, 101, 10):\n",
    "    precision_list = []\n",
    "    recall_list = []\n",
    "    for r in range(1,100):\n",
    "        precision, recall = randomForestclf(min_samples_split = i)\n",
    "        precision_list.append(precision)\n",
    "        recall_list.append(recall)\n",
    "        r += 1\n",
    "    avg_precision = sum(precision_list) / len(precision_list)\n",
    "    avg_recall = sum(recall_list) / len(recall_list)\n",
    "    print i, \"                  \", avg_precision, \"  \", avg_recall, \"   \", (avg_precision + avg_recall)/2\n",
    "    i += 1"
   ]
  },
  {
   "cell_type": "markdown",
   "metadata": {},
   "source": [
    "It's interesting to see that precision scores decrease for min_samples_split > 11, while for recall these scores keep increasing until min_samples_split is >41. In this exercise, we'll assume that identifying as many true POIs as possible (recall) is equally important as not accusing non-POIs of being POIs. Therefore we'll pick the highest average between the two scores, which is at min_samples_split = 41."
   ]
  },
  {
   "cell_type": "markdown",
   "metadata": {},
   "source": [
    "### 4.3 n_estimators"
   ]
  },
  {
   "cell_type": "code",
   "execution_count": 152,
   "metadata": {
    "collapsed": false
   },
   "outputs": [
    {
     "name": "stdout",
     "output_type": "stream",
     "text": [
      "n_estimators     avg precision     avg recall         avg\n",
      "1                    0.43767243365    0.630303030303     0.533987731977\n",
      "10                    0.594018523564    0.533333333333     0.563675928449\n",
      "25                    0.625978679009    0.557575757576     0.591777218292\n",
      "50                    0.63099111887    0.539393939394     0.585192529132\n",
      "100                    0.636080137595    0.527272727273     0.581676432434\n",
      "250                    0.609975294066    0.511111111111     0.560543202589\n"
     ]
    }
   ],
   "source": [
    "# Simulate outcomes across values of n_estimators\n",
    "print \"n_estimators    \", \"avg precision    \", \"avg recall        \", \"avg\"\n",
    "for i in [1, 10, 25, 50, 100, 250]:\n",
    "    precision_list = []\n",
    "    recall_list = []\n",
    "    for r in range(1,100):\n",
    "        precision, recall = randomForestclf(min_samples_split = 41, n_estimators = i)\n",
    "        precision_list.append(precision)\n",
    "        recall_list.append(recall)\n",
    "        r += 1\n",
    "    avg_precision = sum(precision_list) / len(precision_list)\n",
    "    avg_recall = sum(recall_list) / len(recall_list)\n",
    "    print i, \"                  \", avg_precision, \"  \", avg_recall, \"   \", (avg_precision + avg_recall)/2\n",
    "    i += 1"
   ]
  },
  {
   "cell_type": "markdown",
   "metadata": {},
   "source": [
    "It looks like the highest performance is is at n_estimators = 25."
   ]
  },
  {
   "cell_type": "markdown",
   "metadata": {},
   "source": [
    "It looks like the highest performance is is at n_estimators = 25."
   ]
  },
  {
   "cell_type": "markdown",
   "metadata": {},
   "source": [
    "#### 4.4 class_weight revisited"
   ]
  },
  {
   "cell_type": "markdown",
   "metadata": {},
   "source": [
    "Let's now revisit the class_weight identifier and see which option gives the best outcome."
   ]
  },
  {
   "cell_type": "code",
   "execution_count": 155,
   "metadata": {
    "collapsed": false
   },
   "outputs": [
    {
     "name": "stdout",
     "output_type": "stream",
     "text": [
      "class weight           avg precision     avg recall         avg\n",
      "None                    0.382154882155    0.0525252525253     0.21734006734\n",
      "balanced                    0.608547961578    0.516161616162     0.56235478887\n",
      "balanced_subsample                    0.617565683475    0.566666666667     0.592116175071\n"
     ]
    }
   ],
   "source": [
    "# Simulate outcomes across values of min_samples_split\n",
    "print \"class weight          \", \"avg precision    \", \"avg recall        \", \"avg\"\n",
    "options = [None, \"balanced\", \"balanced_subsample\"]\n",
    "for i in options:\n",
    "    precision_list = []\n",
    "    recall_list = []\n",
    "    for r in range(1,100):\n",
    "        precision, recall = randomForestclf(class_weight = i, min_samples_split = 41, n_estimators = 25)\n",
    "        precision_list.append(precision)\n",
    "        recall_list.append(recall)\n",
    "        r += 1\n",
    "    avg_precision = sum(precision_list) / len(precision_list)\n",
    "    avg_recall = sum(recall_list) / len(recall_list)\n",
    "    print i, \"                  \", avg_precision, \"  \", avg_recall, \"   \", (avg_precision + avg_recall)/2"
   ]
  },
  {
   "cell_type": "markdown",
   "metadata": {
    "collapsed": true
   },
   "source": [
    "It seems at the parameters of min_samples_split = 41 and using 25 estimators, we get the best result using the \"balanced_subsample\" class weight. Seeing now that the two balanced class-weights clearly outperform the non-adjusted algorhithm also confirms our initial intuition."
   ]
  }
 ],
 "metadata": {
  "kernelspec": {
   "display_name": "Python 2",
   "language": "python",
   "name": "python2"
  },
  "language_info": {
   "codemirror_mode": {
    "name": "ipython",
    "version": 2
   },
   "file_extension": ".py",
   "mimetype": "text/x-python",
   "name": "python",
   "nbconvert_exporter": "python",
   "pygments_lexer": "ipython2",
   "version": "2.7.11"
  }
 },
 "nbformat": 4,
 "nbformat_minor": 0
}
