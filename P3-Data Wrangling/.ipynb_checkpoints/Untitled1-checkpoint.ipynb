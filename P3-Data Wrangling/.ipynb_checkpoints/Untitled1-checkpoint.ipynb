{
 "cells": [
  {
   "cell_type": "code",
   "execution_count": 1,
   "metadata": {
    "collapsed": true
   },
   "outputs": [],
   "source": [
    "import pymongo\n",
    "import pprint"
   ]
  },
  {
   "cell_type": "code",
   "execution_count": null,
   "metadata": {
    "collapsed": true
   },
   "outputs": [],
   "source": [
    "#!/usr/bin/env python\n",
    "\"\"\"\n",
    "Your task is to complete the 'porsche_query' function and in particular the query\n",
    "to find all autos where the manufacturer field matches \"Porsche\".\n",
    "Please modify only 'porsche_query' function, as only that will be taken into account.\n",
    "\n",
    "Your code will be run against a MongoDB instance that we have provided.\n",
    "If you want to run this code locally on your machine,\n",
    "you have to install MongoDB and download and insert the dataset.\n",
    "For instructions related to MongoDB setup and datasets please see Course Materials at\n",
    "the following link:\n",
    "https://www.udacity.com/wiki/ud032\n",
    "\"\"\"\n",
    "\n",
    "def porsche_query():\n",
    "    # Please fill in the query to find all autos manuafactured by Porsche.\n",
    "    query = {\"manufacturer\" : \"Porsche\"}\n",
    "    pprint.pprint(query)\n",
    "    return query"
   ]
  },
  {
   "cell_type": "code",
   "execution_count": null,
   "metadata": {
    "collapsed": true
   },
   "outputs": [],
   "source": [
    "# Do not edit code below this line in the online code editor.\n",
    "# Code here is for local use on your own computer.\n",
    "def get_db(db_name):\n",
    "    # For local use\n",
    "    from pymongo import MongoClient\n",
    "    client = MongoClient('localhost:27017')\n",
    "    db = client[db_name]\n",
    "    return db\n",
    "\n",
    "def find_porsche(db, query):\n",
    "    # For local use\n",
    "    return db.autos.find(query)"
   ]
  },
  {
   "cell_type": "code",
   "execution_count": null,
   "metadata": {
    "collapsed": true
   },
   "outputs": [],
   "source": [
    "if __name__ == \"__main__\":\n",
    "    # For local use\n",
    "    db = get_db('examples')\n",
    "    query = porsche_query()\n",
    "    results = find_porsche(db, query)\n",
    "\n",
    "    print \"Printing first 3 results\\n\"\n",
    "\n",
    "    for car in results[:3]:\n",
    "        pprint.pprint(car)"
   ]
  }
 ],
 "metadata": {
  "kernelspec": {
   "display_name": "Python 2",
   "language": "python",
   "name": "python2"
  },
  "language_info": {
   "codemirror_mode": {
    "name": "ipython",
    "version": 2
   },
   "file_extension": ".py",
   "mimetype": "text/x-python",
   "name": "python",
   "nbconvert_exporter": "python",
   "pygments_lexer": "ipython2",
   "version": "2.7.10"
  }
 },
 "nbformat": 4,
 "nbformat_minor": 0
}
