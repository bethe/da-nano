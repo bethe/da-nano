{
 "cells": [
  {
   "cell_type": "code",
   "execution_count": null,
   "metadata": {
    "collapsed": true
   },
   "outputs": [],
   "source": [
    "import numpy as np\n",
    "import pandas\n",
    "import statsmodels.api as sm"
   ]
  },
  {
   "cell_type": "code",
   "execution_count": 4,
   "metadata": {
    "collapsed": true
   },
   "outputs": [],
   "source": [
    "def linear_regression(features, values):\n",
    "    \n",
    "    features = sm.add_constant(features)\n",
    "    model = sm.OLS(values, features)\n",
    "    results = model.fit()\n",
    "    intercept = results.params[0]\n",
    "    params = results.params[1:]\n",
    "    return intercept, params\n"
   ]
  },
  {
   "cell_type": "code",
   "execution_count": 23,
   "metadata": {
    "collapsed": true
   },
   "outputs": [],
   "source": [
    "def predictions(intercept, features, params):\n",
    "    predictions = intercept + np.dot(features, params)\n",
    "    return predictions"
   ]
  },
  {
   "cell_type": "code",
   "execution_count": 16,
   "metadata": {
    "collapsed": true
   },
   "outputs": [],
   "source": [
    "def compute_r_squared(data, predictions):\n",
    "    \n",
    "    SSpred = ((data - predictions)**2).sum()\n",
    "    SSmean = ((data - np.mean(data))**2).sum()\n",
    "    \n",
    "    r_squared = 1 - (SSpred / SSmean)\n",
    "    \n",
    "    return r_squared"
   ]
  },
  {
   "cell_type": "code",
   "execution_count": 19,
   "metadata": {
    "collapsed": false
   },
   "outputs": [],
   "source": [
    "################################ MODIFY THIS SECTION #####################################\n",
    "# Select features. You should modify this section to try different features!             #\n",
    "# We've selected rain, precipi, Hour, meantempi, and UNIT (as a dummy) to start you off. #\n",
    "# See this page for more info about dummy variables:                                     #\n",
    "# http://pandas.pydata.org/pandas-docs/stable/generated/pandas.get_dummies.html          #\n",
    "##########################################################################################\n",
    "dataframe = pandas.read_csv('3-turnstile_data_master_with_weather.csv')\n",
    "features = dataframe[['rain', 'precipi', 'Hour', 'meantempi', 'maxtempi', 'meanwindspdi', 'meanpressurei']]\n",
    "dummy_units = pandas.get_dummies(dataframe['UNIT'], prefix='unit')\n",
    "features = features.join(dummy_units)\n",
    "\n",
    "# Values\n",
    "values = dataframe['ENTRIESn_hourly']"
   ]
  },
  {
   "cell_type": "code",
   "execution_count": 20,
   "metadata": {
    "collapsed": false
   },
   "outputs": [
    {
     "data": {
      "text/plain": [
       "(fog               118.781835\n",
       " rain              -13.750008\n",
       " precipi            -9.702977\n",
       " Hour               67.415458\n",
       " meantempi         -36.139719\n",
       " maxtempi           27.077071\n",
       " meanwindspdi       21.269070\n",
       " meanpressurei    -274.503936\n",
       " unit_R001        2445.942015\n",
       " unit_R002        -615.529645\n",
       " unit_R003       -1311.882330\n",
       " unit_R004        -990.236894\n",
       " unit_R005       -1002.250182\n",
       " unit_R006        -930.897654\n",
       " unit_R007       -1152.721592\n",
       " unit_R008       -1117.904374\n",
       " unit_R009       -1188.096638\n",
       " unit_R010        3047.584786\n",
       " unit_R011        6532.486601\n",
       " unit_R012        5965.952543\n",
       " unit_R013         982.662916\n",
       " unit_R014        2503.689590\n",
       " unit_R015         638.930190\n",
       " unit_R016        -551.087019\n",
       " unit_R017        2727.033321\n",
       " unit_R018        4432.891413\n",
       " unit_R019        1398.268754\n",
       " unit_R020        4998.186777\n",
       " unit_R021        2965.743264\n",
       " unit_R022        7121.154108\n",
       "                     ...     \n",
       " unit_R450       -1013.876926\n",
       " unit_R451        -588.850397\n",
       " unit_R452        4232.459700\n",
       " unit_R453         326.836322\n",
       " unit_R454       -1325.515061\n",
       " unit_R455       -1377.481621\n",
       " unit_R456       -1250.116970\n",
       " unit_R459       -1391.554358\n",
       " unit_R460          35.027737\n",
       " unit_R461        1582.677008\n",
       " unit_R462         515.706162\n",
       " unit_R463        1598.441102\n",
       " unit_R464       -1520.871094\n",
       " unit_R468       -1060.766279\n",
       " unit_R469       -1057.697274\n",
       " unit_R535       -1064.433124\n",
       " unit_R536       -1055.409080\n",
       " unit_R540       -1350.805600\n",
       " unit_R541       -1457.410191\n",
       " unit_R542       -1475.919606\n",
       " unit_R543       -1514.302152\n",
       " unit_R544       -1525.868574\n",
       " unit_R545       -1477.651687\n",
       " unit_R546       -1338.027311\n",
       " unit_R547       -1446.816833\n",
       " unit_R548       -1409.330672\n",
       " unit_R549       -1550.417747\n",
       " unit_R550       -1513.189459\n",
       " unit_R551       -1484.566558\n",
       " unit_R552       -1421.194793\n",
       " dtype: float64,)"
      ]
     },
     "execution_count": 20,
     "metadata": {},
     "output_type": "execute_result"
    }
   ],
   "source": [
    "lms = linear_regression(features, values)\n",
    "lms[1:]"
   ]
  },
  {
   "cell_type": "code",
   "execution_count": 30,
   "metadata": {
    "collapsed": false
   },
   "outputs": [
    {
     "data": {
      "text/plain": [
       "array([ 3588.62346134,  3858.28529493,  4127.94712853,  4397.60896213])"
      ]
     },
     "execution_count": 30,
     "metadata": {},
     "output_type": "execute_result"
    }
   ],
   "source": [
    "intercept = lms[0]\n",
    "params = lms[1]\n",
    "predictions = intercept + np.dot(features, params)\n",
    "predictions[1:5]"
   ]
  },
  {
   "cell_type": "code",
   "execution_count": 32,
   "metadata": {
    "collapsed": false
   },
   "outputs": [
    {
     "data": {
      "text/plain": [
       "0.4594291407105473"
      ]
     },
     "execution_count": 32,
     "metadata": {},
     "output_type": "execute_result"
    }
   ],
   "source": [
    "r_squared = compute_r_squared(values, predictions)\n",
    "r_squared"
   ]
  }
 ],
 "metadata": {
  "kernelspec": {
   "display_name": "Python 2",
   "language": "python",
   "name": "python2"
  },
  "language_info": {
   "codemirror_mode": {
    "name": "ipython",
    "version": 2
   },
   "file_extension": ".py",
   "mimetype": "text/x-python",
   "name": "python",
   "nbconvert_exporter": "python",
   "pygments_lexer": "ipython2",
   "version": "2.7.10"
  }
 },
 "nbformat": 4,
 "nbformat_minor": 0
}
